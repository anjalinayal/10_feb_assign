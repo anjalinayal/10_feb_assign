{
 "cells": [
  {
   "cell_type": "markdown",
   "id": "2fc5108a-a651-4322-956e-670f2be53f1d",
   "metadata": {},
   "source": [
    "Q1 Ans:-open() function is used for opening a file. There are various modes in which files can be open such as\n",
    "read , write, read write, binary,append mode.\n",
    "\n",
    "read (r):-The read mode ('r') assumes the role of the default mode for file opening in Python.When you open a file in read mode, \n",
    "you are granted the ability to exclusively read data from the file without the possibility of altering its contents. \n",
    "\n",
    "write(w):-The write mode ('w') opens the gateway to writing data into a file. When you opt for write mode, if the file already \n",
    "exists, its contents will be truncated—meaning all existing data will be removed.\n",
    "\n",
    "Binary(b):-The binary mode ('b') emerges as the chosen ally when dealing with binary data—such as images, audio files, \n",
    "or other non-text files. Opening a file in binary mode empowers you to read or write binary data. \n",
    "The 'b' mode can be harmoniously coupled with either the read ('r') or write ('w') modes.\n",
    "\n",
    "Append(a):-When it comes to appending new data to an existing file without truncating its contents, \n",
    "the append mode ('a') springs into action. If the file does not exist, a new file will be created.\n",
    "\n",
    "Read and write(r+):- The read and write mode ('r+') proves to be a dynamic duo, \n",
    "facilitating both reading and writing data to a file. \n",
    "\n"
   ]
  },
  {
   "cell_type": "markdown",
   "id": "359b7543-8681-43e4-8b00-6c137091aea8",
   "metadata": {},
   "source": [
    "Q2 Ans:- Close() statement is used to close the file we opened . close() statement is important as the changes or the statements we executed will \n",
    "give us output after the close() statement only and it also helps in memory management as after execution it will remove the loaded file\n",
    "from the main memory\n"
   ]
  },
  {
   "cell_type": "markdown",
   "id": "ce05d44f-07b0-460f-9178-bcc3d30707e4",
   "metadata": {},
   "source": [
    "Q3"
   ]
  },
  {
   "cell_type": "code",
   "execution_count": 1,
   "id": "3b9177b9-4bc4-4f08-9794-ea333ed01de1",
   "metadata": {},
   "outputs": [],
   "source": [
    "f=open(\"text11.txt\",\"w\")\n",
    "f.write(\"I want to become a data scientist\")\n",
    "f.close()"
   ]
  },
  {
   "cell_type": "code",
   "execution_count": 4,
   "id": "ba60c0c0-7d9d-412e-8688-4ebaeed1e08b",
   "metadata": {},
   "outputs": [
    {
     "name": "stdout",
     "output_type": "stream",
     "text": [
      "I want to become a data scientist\n"
     ]
    }
   ],
   "source": [
    "f=open(\"text11.txt\",\"r\")\n",
    "print(f.read())\n",
    "f.close()"
   ]
  },
  {
   "cell_type": "markdown",
   "id": "114e293e-bbb1-44a6-b666-81e272aea2d1",
   "metadata": {},
   "source": [
    "Q4"
   ]
  },
  {
   "cell_type": "code",
   "execution_count": 17,
   "id": "80cb288c-b4bf-425b-aed3-e3bb561573c6",
   "metadata": {},
   "outputs": [],
   "source": [
    "f=open(\"text12.txt\",\"a\")\n",
    "\n",
    "f.write(\"Data Science Masters course is highly curated and uniquely designed according to the latest industry standards.Tional world. You will learn all the stack required to work in data science industry including cloud infrastructure and real-time industry projects. This course will be taught in Hindi language.\\n\\n\")\n",
    "f.write(\"This program instills students the skills essential to knowledge discovery efforts to identify standard,\\n\\n\")\n",
    "f.write(\"novel, and truly differentiated solutions and decision-making, including skills in managing, querying, analyzing, visualizing, and extracting meaning from extremely large data\\n\\n\")\n",
    "f.write(\"his trending program provides students with the statistical, mathematical and computational skills needed to meet the large-scale data science challenges of today's profess\\n\\n\")\n",
    "f.close()\n"
   ]
  },
  {
   "cell_type": "code",
   "execution_count": 18,
   "id": "8df32ed1-f6a9-4256-a92c-e264ca9c9953",
   "metadata": {},
   "outputs": [
    {
     "name": "stdout",
     "output_type": "stream",
     "text": [
      "this is my read function\n",
      " Data Science Masters course is highly curated and uniquely designed according to the latest industry standards.Tional world. You will learn all the stack required to work in data science industry including cloud infrastructure and real-time industry projects. This course will be taught in Hindi language.\n",
      "\n",
      "This program instills students the skills essential to knowledge discovery efforts to identify standard,\n",
      "\n",
      "novel, and truly differentiated solutions and decision-making, including skills in managing, querying, analyzing, visualizing, and extracting meaning from extremely large data\n",
      "\n",
      "his trending program provides students with the statistical, mathematical and computational skills needed to meet the large-scale data science challenges of today's profess\n",
      "\n",
      "\n",
      "this is my readline function\n",
      " Data Science Masters course is highly curated and uniquely designed according to the latest industry standards.Tional world. You will learn all the stack required to work in data science industry including cloud infrastructure and real-time industry projects. This course will be taught in Hindi language.\n",
      "\n",
      "this is my readlines function\n",
      " ['Data Science Masters course is highly curated and uniquely designed according to the latest industry standards.Tional world. You will learn all the stack required to work in data science industry including cloud infrastructure and real-time industry projects. This course will be taught in Hindi language.\\n']\n"
     ]
    }
   ],
   "source": [
    "f=open(\"text12.txt\",\"r\")\n",
    "print(\"this is my read function\\n\",f.read())\n",
    "f.seek(0)\n",
    "print(\"this is my readline function\\n\",f.readline())\n",
    "f.seek(0)\n",
    "print(\"this is my readlines function\\n\",f.readlines(14))\n",
    "f.close()"
   ]
  },
  {
   "cell_type": "markdown",
   "id": "f9cca7bd-90ba-475f-b29e-b09cb54f9973",
   "metadata": {},
   "source": [
    "Q5 Ans:-The with statement works with the open() function to open a file.\n",
    "\n",
    "Unlike open() where you have to close the file with the close() method, the with statement closes the file for you without you telling it to.\n",
    "\n",
    "This is because the with statement calls 2 built-in methods behind the scene – __enter()__ and __exit()__.\n"
   ]
  },
  {
   "cell_type": "markdown",
   "id": "8c1538be-d4e0-4abf-b78b-5e47326df43b",
   "metadata": {},
   "source": [
    "Q6 Ans:- The write() method accepts a string as an argument and writes this string to the text file. Whereas, \n",
    "the writelines() method accepts an iterable i.e. a string or the list of strings as an argument and writes \n",
    "these strings to the text file."
   ]
  },
  {
   "cell_type": "code",
   "execution_count": 22,
   "id": "b1e47ef1-296a-4526-a795-3b8f4b14e1e4",
   "metadata": {},
   "outputs": [
    {
     "name": "stdin",
     "output_type": "stream",
     "text": [
      "enter the name hi\n",
      "enter the name hello\n",
      "enter the name hey\n"
     ]
    }
   ],
   "source": [
    "f=open(\"test13.txt\",\"w\")\n",
    "lst=[]\n",
    "for i in range(3):\n",
    "    a=input(\"enter the name\")\n",
    "    lst.append(a+'\\n')\n",
    "\n",
    "f.writelines(lst)\n",
    "f.close()"
   ]
  },
  {
   "cell_type": "code",
   "execution_count": 23,
   "id": "4a7f687f-1881-4558-9485-ceddacfbfe57",
   "metadata": {},
   "outputs": [
    {
     "name": "stdin",
     "output_type": "stream",
     "text": [
      "enter the name hi\n",
      "enter the name hello\n",
      "enter the name hey\n"
     ]
    },
    {
     "ename": "TypeError",
     "evalue": "write() argument must be str, not list",
     "output_type": "error",
     "traceback": [
      "\u001b[0;31m---------------------------------------------------------------------------\u001b[0m",
      "\u001b[0;31mTypeError\u001b[0m                                 Traceback (most recent call last)",
      "Cell \u001b[0;32mIn[23], line 7\u001b[0m\n\u001b[1;32m      4\u001b[0m     a\u001b[38;5;241m=\u001b[39m\u001b[38;5;28minput\u001b[39m(\u001b[38;5;124m\"\u001b[39m\u001b[38;5;124menter the name\u001b[39m\u001b[38;5;124m\"\u001b[39m)\n\u001b[1;32m      5\u001b[0m     lst\u001b[38;5;241m.\u001b[39mappend(a\u001b[38;5;241m+\u001b[39m\u001b[38;5;124m'\u001b[39m\u001b[38;5;130;01m\\n\u001b[39;00m\u001b[38;5;124m'\u001b[39m)\n\u001b[0;32m----> 7\u001b[0m \u001b[43mf\u001b[49m\u001b[38;5;241;43m.\u001b[39;49m\u001b[43mwrite\u001b[49m\u001b[43m(\u001b[49m\u001b[43mlst\u001b[49m\u001b[43m)\u001b[49m\n\u001b[1;32m      8\u001b[0m f\u001b[38;5;241m.\u001b[39mclose()\n",
      "\u001b[0;31mTypeError\u001b[0m: write() argument must be str, not list"
     ]
    }
   ],
   "source": [
    "f=open(\"test14.txt\",\"w\")\n",
    "lst=[]\n",
    "for i in range(3):\n",
    "    a=input(\"enter the name\")\n",
    "    lst.append(a+'\\n')\n",
    "\n",
    "f.write(lst)\n",
    "f.close()"
   ]
  },
  {
   "cell_type": "code",
   "execution_count": null,
   "id": "e4e16860-6a34-46c2-b741-871005d3beed",
   "metadata": {},
   "outputs": [],
   "source": []
  }
 ],
 "metadata": {
  "kernelspec": {
   "display_name": "Python 3 (ipykernel)",
   "language": "python",
   "name": "python3"
  },
  "language_info": {
   "codemirror_mode": {
    "name": "ipython",
    "version": 3
   },
   "file_extension": ".py",
   "mimetype": "text/x-python",
   "name": "python",
   "nbconvert_exporter": "python",
   "pygments_lexer": "ipython3",
   "version": "3.10.8"
  }
 },
 "nbformat": 4,
 "nbformat_minor": 5
}
